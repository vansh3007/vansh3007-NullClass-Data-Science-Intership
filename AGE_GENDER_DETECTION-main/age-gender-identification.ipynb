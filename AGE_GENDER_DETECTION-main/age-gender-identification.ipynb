{
 "cells": [
  {
   "cell_type": "code",
   "execution_count": null,
   "id": "243591c7-24da-4a43-9c82-39fd2dff904e",
   "metadata": {
    "execution": {
     "iopub.execute_input": "2025-02-15T04:37:24.168375Z",
     "iopub.status.busy": "2025-02-15T04:37:24.168046Z",
     "iopub.status.idle": "2025-02-15T04:37:40.529407Z",
     "shell.execute_reply": "2025-02-15T04:37:40.528534Z",
     "shell.execute_reply.started": "2025-02-15T04:37:24.168348Z"
    },
    "papermill": {
     "duration": 13.307138,
     "end_time": "2024-06-10T12:51:59.438523",
     "exception": false,
     "start_time": "2024-06-10T12:51:46.131385",
     "status": "completed"
    },
    "tags": [],
    "trusted": true
   },
   "outputs": [],
   "source": [
    "import pandas as pd\n",
    "import numpy as np\n",
    "import os\n",
    "import cv2\n",
    "import matplotlib.pyplot as plt\n",
    "import seaborn as sns\n",
    "import warnings\n",
    "from tqdm import tqdm\n",
    "warnings.filterwarnings('ignore')\n",
    "import tensorflow as tf\n",
    "from keras.preprocessing.image import load_img\n",
    "from keras.models import Sequential, Model\n",
    "from keras.layers import Dense, Conv2D, Dropout, Flatten, MaxPooling2D, Input\n",
    "from PIL import Image\n",
    "from tensorflow.keras.utils import plot_model # type: ignore\n",
    "from pathlib import Path\n",
    "from tensorflow.keras.preprocessing.image import load_img\n",
    "from sklearn.model_selection import train_test_split\n",
    "from tensorflow.keras.initializers import random_uniform, glorot_uniform, constant, identity\n",
    "from tensorflow.keras.layers import Dropout, Input, Add, Dense, Activation, BatchNormalization, Flatten, Conv2D, MaxPooling2D, GlobalMaxPooling2D\n",
    "from tensorflow.keras.models import Model, load_model\n",
    "import warnings\n",
    "warnings.filterwarnings(\"ignore\", message=\".*CuDNN.*\")\n",
    "warnings.filterwarnings(\"ignore\", message=\".*cuFFT.*\")\n",
    "warnings.filterwarnings(\"ignore\", message=\".*cuBLAS.*\")\n",
    "import os\n",
    "# from tensorflow.keras.utils import np_utils\n",
    "from tensorflow.keras import utils\n",
    "from tensorflow.keras.callbacks import ModelCheckpoint, EarlyStopping\n",
    "from tensorflow.keras import datasets, layers, models\n",
    "from PIL import Image"
   ]
  },
  {
   "cell_type": "code",
   "execution_count": null,
   "id": "4178b7c7-df2f-4c75-9731-d698413a5726",
   "metadata": {
    "execution": {
     "iopub.execute_input": "2024-06-10T12:51:59.453182Z",
     "iopub.status.busy": "2024-06-10T12:51:59.452318Z",
     "iopub.status.idle": "2024-06-10T12:51:59.456369Z",
     "shell.execute_reply": "2024-06-10T12:51:59.455536Z"
    },
    "papermill": {
     "duration": 0.013189,
     "end_time": "2024-06-10T12:51:59.458321",
     "exception": false,
     "start_time": "2024-06-10T12:51:59.445132",
     "status": "completed"
    },
    "tags": []
   },
   "outputs": [],
   "source": [
    "BASE_DIRS = [r'../data/UTKFace/UTKFace']"
   ]
  },
  {
   "cell_type": "code",
   "execution_count": null,
   "id": "42e01318-4fc8-4dc7-b622-04cfa0970943",
   "metadata": {
    "execution": {
     "iopub.execute_input": "2024-06-10T12:51:59.471681Z",
     "iopub.status.busy": "2024-06-10T12:51:59.471425Z",
     "iopub.status.idle": "2024-06-10T12:51:59.859646Z",
     "shell.execute_reply": "2024-06-10T12:51:59.858463Z"
    },
    "papermill": {
     "duration": 0.39711,
     "end_time": "2024-06-10T12:51:59.861614",
     "exception": false,
     "start_time": "2024-06-10T12:51:59.464504",
     "status": "completed"
    },
    "tags": []
   },
   "outputs": [],
   "source": [
    "image_paths = []\n",
    "age_labels = []\n",
    "gender_paths = []\n",
    "\n",
    "for BASE_DIR in BASE_DIRS:\n",
    "    for filename in tqdm(os.listdir(BASE_DIR)):\n",
    "        temp = filename.split('_')\n",
    "        if temp[0].isdigit():  # Check if the first part of the filename is a number\n",
    "            age = int(temp[0])\n",
    "            gender = int(temp[1])\n",
    "            image_path = os.path.join(BASE_DIR, filename)\n",
    "            image_paths.append(image_path)\n",
    "            age_labels.append(age)\n",
    "            gender_paths.append(gender)"
   ]
  },
  {
   "cell_type": "code",
   "execution_count": null,
   "id": "4d3fdec5-d92a-4db9-acd8-6dd26ddd9e8a",
   "metadata": {
    "execution": {
     "iopub.execute_input": "2024-06-10T12:51:59.876070Z",
     "iopub.status.busy": "2024-06-10T12:51:59.875754Z",
     "iopub.status.idle": "2024-06-10T12:51:59.922961Z",
     "shell.execute_reply": "2024-06-10T12:51:59.921812Z"
    },
    "papermill": {
     "duration": 0.056698,
     "end_time": "2024-06-10T12:51:59.924954",
     "exception": false,
     "start_time": "2024-06-10T12:51:59.868256",
     "status": "completed"
    },
    "tags": []
   },
   "outputs": [],
   "source": [
    "df =pd.DataFrame()\n",
    "df['image'], df['age'], df['gender'] = image_paths,age_labels,gender_paths\n",
    "df.head()\n",
    "# print(df.head())\n",
    "print(f\"Dataframe: {df}\")\n",
    "gender_dict = {0:'Male', 1:'Female'}\n",
    "\n"
   ]
  },
  {
   "cell_type": "code",
   "execution_count": null,
   "id": "24d6a9c1-a84a-498f-9ff5-613ee2877890",
   "metadata": {
    "execution": {
     "iopub.execute_input": "2024-06-10T12:51:59.939229Z",
     "iopub.status.busy": "2024-06-10T12:51:59.938892Z",
     "iopub.status.idle": "2024-06-10T12:52:00.139877Z",
     "shell.execute_reply": "2024-06-10T12:52:00.138878Z"
    },
    "papermill": {
     "duration": 0.211827,
     "end_time": "2024-06-10T12:52:00.143391",
     "exception": false,
     "start_time": "2024-06-10T12:51:59.931564",
     "status": "completed"
    },
    "tags": []
   },
   "outputs": [],
   "source": [
    "df = pd.DataFrame()\n",
    "df['image'], df['age'], df['gender'] = image_paths, age_labels, gender_paths\n",
    "\n",
    "# Debug print to check if the dataframe is populated correctly\n",
    "print(f\"Dataframe shape: {df.shape}\")\n",
    "print(f\"First few rows of the dataframe: {df.head()}\")\n",
    "\n",
    "if not df.empty:\n",
    "    gender_dict = {0: 'Male', 1: 'Female'}\n",
    "\n",
    "    try:\n",
    "        img = Image.open(df['image'][0])\n",
    "        plt.axis('off')\n",
    "        plt.imshow(img)\n",
    "        plt.show()\n",
    "    except Exception as e:\n",
    "        print(f\"Error opening image: {e}\")\n",
    "else:\n",
    "    print(\"Dataframe is empty. No images found.\")"
   ]
  },
  {
   "cell_type": "code",
   "execution_count": null,
   "id": "8e7e93d1-5198-48e3-91b0-615f8e9824ab",
   "metadata": {
    "execution": {
     "iopub.execute_input": "2024-06-10T12:52:00.162854Z",
     "iopub.status.busy": "2024-06-10T12:52:00.162533Z",
     "iopub.status.idle": "2024-06-10T12:52:00.712046Z",
     "shell.execute_reply": "2024-06-10T12:52:00.711117Z"
    },
    "papermill": {
     "duration": 0.561566,
     "end_time": "2024-06-10T12:52:00.714065",
     "exception": false,
     "start_time": "2024-06-10T12:52:00.152499",
     "status": "completed"
    },
    "tags": []
   },
   "outputs": [],
   "source": [
    "sns.displot(df['age'],kde=True, bins=30)\n",
    "plt.title('Age Distribution')\n",
    "plt.legend()\n",
    "plt.xlabel('Age')\n",
    "plt.ylabel('Frequency')\n",
    "plt.show()"
   ]
  },
  {
   "cell_type": "code",
   "execution_count": null,
   "id": "9782d9dc-c175-44dc-b7f4-70c4583968f7",
   "metadata": {
    "execution": {
     "iopub.execute_input": "2024-06-10T12:52:00.734055Z",
     "iopub.status.busy": "2024-06-10T12:52:00.733756Z",
     "iopub.status.idle": "2024-06-10T12:52:00.763132Z",
     "shell.execute_reply": "2024-06-10T12:52:00.762204Z"
    },
    "papermill": {
     "duration": 0.042163,
     "end_time": "2024-06-10T12:52:00.765780",
     "exception": false,
     "start_time": "2024-06-10T12:52:00.723617",
     "status": "completed"
    },
    "tags": []
   },
   "outputs": [],
   "source": [
    "plt.figure(figsize=(25,25))\n",
    "files = df.iloc[0:25]"
   ]
  },
  {
   "cell_type": "code",
   "execution_count": null,
   "id": "085e93de-9c23-4060-bb44-86beb3f887b8",
   "metadata": {
    "execution": {
     "iopub.execute_input": "2024-06-10T12:52:02.403808Z",
     "iopub.status.busy": "2024-06-10T12:52:02.403243Z",
     "iopub.status.idle": "2024-06-10T12:52:02.409149Z",
     "shell.execute_reply": "2024-06-10T12:52:02.408249Z"
    },
    "papermill": {
     "duration": 0.022541,
     "end_time": "2024-06-10T12:52:02.411240",
     "exception": false,
     "start_time": "2024-06-10T12:52:02.388699",
     "status": "completed"
    },
    "tags": []
   },
   "outputs": [],
   "source": [
    "def extract_feature(images):\n",
    "    features = []\n",
    "    for image in tqdm(images):\n",
    "        # Load image and convert to grayscale\n",
    "        img = Image.open(image).convert('L')\n",
    "        # Resize image\n",
    "        img = img.resize((128, 128), Image.BILINEAR)  # Use Image.ANTIALIAS\n",
    "\n",
    "        img = np.array(img)\n",
    "        features.append(img)\n",
    "    \n",
    "    features = np.array(features)\n",
    "\n",
    "    features = features.reshape(len(features), 128, 128, 1)\n",
    "    return features"
   ]
  },
  {
   "cell_type": "code",
   "execution_count": null,
   "id": "ec2bbd95-2e62-47a2-aa88-4f633b7aadb1",
   "metadata": {
    "execution": {
     "iopub.execute_input": "2024-06-10T12:52:02.439601Z",
     "iopub.status.busy": "2024-06-10T12:52:02.439271Z",
     "iopub.status.idle": "2024-06-10T12:54:04.073608Z",
     "shell.execute_reply": "2024-06-10T12:54:04.072534Z"
    },
    "papermill": {
     "duration": 121.65038,
     "end_time": "2024-06-10T12:54:04.075635",
     "exception": false,
     "start_time": "2024-06-10T12:52:02.425255",
     "status": "completed"
    },
    "tags": []
   },
   "outputs": [],
   "source": [
    "X = extract_feature(df['image'])\n",
    "\n",
    "print(f\"X_shape: \\t{X.shape}\")\n",
    "X = X / 255.0 #normalize the  image\n",
    "\n",
    "y_gender = np.array(df['gender'])\n",
    "y_age = np.array(df['age'])\n",
    "print(\"Shape of y_gender:\", y_gender.shape)\n",
    "print(\"Shape of y_age:\", y_age.shape)"
   ]
  },
  {
   "cell_type": "code",
   "execution_count": null,
   "id": "22e9e533-c261-4302-bdd7-c6563178182e",
   "metadata": {
    "execution": {
     "iopub.execute_input": "2024-06-10T12:54:04.281049Z",
     "iopub.status.busy": "2024-06-10T12:54:04.280672Z",
     "iopub.status.idle": "2024-06-10T12:54:05.037423Z",
     "shell.execute_reply": "2024-06-10T12:54:05.036575Z"
    },
    "papermill": {
     "duration": 0.860714,
     "end_time": "2024-06-10T12:54:05.039391",
     "exception": false,
     "start_time": "2024-06-10T12:54:04.178677",
     "status": "completed"
    },
    "tags": []
   },
   "outputs": [],
   "source": [
    "input_shape = (128,128,1)\n",
    "\n",
    "inputs = Input(input_shape) \n",
    "\n",
    "#convolution layers\n",
    "conv1 = Conv2D(32, kernel_size=(3, 3), activation='relu')(inputs)\n",
    "maxp1 = MaxPooling2D(pool_size=(2, 2))(conv1)\n",
    "\n",
    "conv2 = Conv2D(64, kernel_size=(3, 3), activation='relu')(maxp1)\n",
    "maxp2 = MaxPooling2D(pool_size=(2, 2))(conv2)\n",
    "\n",
    "conv3 = Conv2D(128, kernel_size=(3, 3), activation='relu')(maxp2)\n",
    "maxp3 = MaxPooling2D(pool_size=(2, 2))(conv3)\n",
    "\n",
    "conv4 = Conv2D(256, kernel_size=(3, 3), activation='relu')(maxp3)\n",
    "maxp4 = MaxPooling2D(pool_size=(2, 2))(conv4)\n",
    "\n",
    "flatten = Flatten()(maxp4)\n",
    "\n",
    "# Fully connected layers\n",
    "dense1 = Dense(256, activation='relu')(flatten)\n",
    "dense2 = Dense(256, activation='relu')(flatten)\n",
    "\n",
    "dropout1 = Dropout(0.3)(dense1)\n",
    "dropout2 = Dropout(0.3)(dense2)\n",
    "\n",
    "# Output layers\n",
    "output1 = Dense(1, activation='sigmoid', name='gender_out')(dropout1)\n",
    "output2 = Dense(1, activation='relu', name='age_out')(dropout2)\n",
    "\n",
    "model = Model(inputs=inputs, outputs=[output1, output2])\n",
    "\n",
    "\n",
    "model.summary()\n"
   ]
  },
  {
   "cell_type": "code",
   "execution_count": null,
   "id": "5807252d-e9f8-4f49-b63e-a9b4ba75d726",
   "metadata": {
    "execution": {
     "iopub.execute_input": "2024-06-10T12:54:05.290631Z",
     "iopub.status.busy": "2024-06-10T12:54:05.290254Z",
     "iopub.status.idle": "2024-06-10T12:54:06.343944Z",
     "shell.execute_reply": "2024-06-10T12:54:06.343108Z"
    },
    "papermill": {
     "duration": 1.159085,
     "end_time": "2024-06-10T12:54:06.346242",
     "exception": false,
     "start_time": "2024-06-10T12:54:05.187157",
     "status": "completed"
    },
    "tags": []
   },
   "outputs": [],
   "source": [
    "# Concatenate y_gender and y_age into a single array\n",
    "y_combined = np.column_stack((y_gender, y_age))\n",
    "\n",
    "# Split the dataset into training and temporary sets\n",
    "X_train, X_temp, y_combined_train, y_combined_temp = train_test_split(X, y_combined, test_size=0.2, random_state=42)\n",
    "\n",
    "# Từ phần còn lại, chia thành 50% testing và 50% validation\n",
    "X_test, X_val, y_combined_test, y_combined_val = train_test_split(X_temp, y_combined_temp, test_size=0.5, random_state=42)\n",
    "\n",
    "# Split y_combined back into y_gender and y_age\n",
    "y_train_gender, y_train_age = y_combined_train[:, 0], y_combined_train[:, 1]\n",
    "y_test_gender, y_test_age = y_combined_test[:, 0], y_combined_test[:, 1]\n",
    "y_val_gender, y_val_age = y_combined_val[:, 0], y_combined_val[:, 1]"
   ]
  },
  {
   "cell_type": "code",
   "execution_count": null,
   "id": "60f5819f-d951-4a80-af7b-ceef3d54430a",
   "metadata": {
    "execution": {
     "iopub.execute_input": "2024-06-10T12:54:06.554069Z",
     "iopub.status.busy": "2024-06-10T12:54:06.553688Z",
     "iopub.status.idle": "2024-06-10T12:54:06.570257Z",
     "shell.execute_reply": "2024-06-10T12:54:06.569367Z"
    },
    "papermill": {
     "duration": 0.1219,
     "end_time": "2024-06-10T12:54:06.572206",
     "exception": false,
     "start_time": "2024-06-10T12:54:06.450306",
     "status": "completed"
    },
    "tags": []
   },
   "outputs": [],
   "source": [
    "from keras.callbacks import LearningRateScheduler\n",
    "\n",
    "model_path = './best_model.keras'\n",
    "\n",
    "checkpointer = ModelCheckpoint(\n",
    "    filepath=model_path,\n",
    "    monitor='val_gender_out_accuracy',\n",
    "    verbose=1,\n",
    "    mode='max',\n",
    "    save_best_only=True\n",
    ")\n",
    "\n",
    "model.compile(loss=['binary_crossentropy', 'mae'], \n",
    "              optimizer='adam', \n",
    "              metrics=['accuracy', 'mae'])\n",
    "\n",
    "annealer = LearningRateScheduler(lambda x: 1e-3 * 0.9 ** x)"
   ]
  },
  {
   "cell_type": "code",
   "execution_count": null,
   "id": "8c70c6ca-739d-4229-869e-826758e82e31",
   "metadata": {
    "execution": {
     "iopub.execute_input": "2024-06-10T12:54:06.778361Z",
     "iopub.status.busy": "2024-06-10T12:54:06.778020Z",
     "iopub.status.idle": "2024-06-10T12:54:06.783701Z",
     "shell.execute_reply": "2024-06-10T12:54:06.782887Z"
    },
    "papermill": {
     "duration": 0.110628,
     "end_time": "2024-06-10T12:54:06.785935",
     "exception": false,
     "start_time": "2024-06-10T12:54:06.675307",
     "status": "completed"
    },
    "tags": []
   },
   "outputs": [],
   "source": [
    "total_images = len(image_paths)\n",
    "print(f\"Total number of images: {total_images}\")\n",
    "\n",
    "# Compute number of images in each set\n",
    "train_images = len(X_train)\n",
    "validation_images = len(X_val)\n",
    "test_images = len(X_test)\n",
    "\n",
    "print(f\"Number of training images: {train_images}\")\n",
    "print(f\"Number of validation images: {validation_images}\")\n",
    "print(f\"Number of test images: {test_images}\")\n"
   ]
  },
  {
   "cell_type": "code",
   "execution_count": null,
   "id": "4a48d6f1-4dfd-4131-a9a7-55f732a2d401",
   "metadata": {
    "execution": {
     "iopub.execute_input": "2024-06-10T12:54:06.995147Z",
     "iopub.status.busy": "2024-06-10T12:54:06.994762Z",
     "iopub.status.idle": "2024-06-10T13:25:14.379582Z",
     "shell.execute_reply": "2024-06-10T13:25:14.378748Z"
    },
    "papermill": {
     "duration": 1867.492283,
     "end_time": "2024-06-10T13:25:14.381771",
     "exception": false,
     "start_time": "2024-06-10T12:54:06.889488",
     "status": "completed"
    },
    "tags": []
   },
   "outputs": [],
   "source": [
    "import tensorflow as tf\n",
    "\n",
    "tf.config.run_functions_eagerly(True)\n",
    "\n",
    "# Training model\n",
    "history = model.fit(x=X_train, y=[y_train_gender, y_train_age], batch_size=128, epochs=100, validation_data=(X_val, [y_val_gender, y_val_age]),callbacks = [annealer, checkpointer])"
   ]
  },
  {
   "cell_type": "code",
   "execution_count": null,
   "id": "434ab833-bb0d-447f-bd88-fbc219b21c1c",
   "metadata": {
    "execution": {
     "iopub.execute_input": "2024-06-10T13:25:17.171807Z",
     "iopub.status.busy": "2024-06-10T13:25:17.170831Z",
     "iopub.status.idle": "2024-06-10T13:25:17.175827Z",
     "shell.execute_reply": "2024-06-10T13:25:17.174913Z"
    },
    "papermill": {
     "duration": 1.374379,
     "end_time": "2024-06-10T13:25:17.177885",
     "exception": false,
     "start_time": "2024-06-10T13:25:15.803506",
     "status": "completed"
    },
    "tags": []
   },
   "outputs": [],
   "source": [
    "acc = history.history['gender_out_accuracy']\n",
    "val_acc = history.history['val_gender_out_accuracy']\n",
    "epochs = range(len(acc))"
   ]
  },
  {
   "cell_type": "code",
   "execution_count": null,
   "id": "970b0fbd-0dce-49ed-9e09-29119f27b5a0",
   "metadata": {
    "execution": {
     "iopub.execute_input": "2024-06-10T13:25:19.992692Z",
     "iopub.status.busy": "2024-06-10T13:25:19.992360Z",
     "iopub.status.idle": "2024-06-10T13:25:20.284225Z",
     "shell.execute_reply": "2024-06-10T13:25:20.283331Z"
    },
    "papermill": {
     "duration": 1.705145,
     "end_time": "2024-06-10T13:25:20.286462",
     "exception": false,
     "start_time": "2024-06-10T13:25:18.581317",
     "status": "completed"
    },
    "tags": []
   },
   "outputs": [],
   "source": [
    "plt.plot(epochs, acc, 'b', label='Training Loss')\n",
    "plt.plot(epochs, val_acc, 'r', label='Validation Loss')\n",
    "plt.title('Loss Graph')\n",
    "plt.legend()\n",
    "plt.show()"
   ]
  },
  {
   "cell_type": "code",
   "execution_count": null,
   "id": "5f515372-7bc1-4ba5-a067-c287bbf2ee53",
   "metadata": {
    "execution": {
     "iopub.execute_input": "2024-06-10T13:25:23.084787Z",
     "iopub.status.busy": "2024-06-10T13:25:23.084398Z",
     "iopub.status.idle": "2024-06-10T13:25:23.309016Z",
     "shell.execute_reply": "2024-06-10T13:25:23.308144Z"
    },
    "papermill": {
     "duration": 1.663061,
     "end_time": "2024-06-10T13:25:23.311173",
     "exception": false,
     "start_time": "2024-06-10T13:25:21.648112",
     "status": "completed"
    },
    "tags": []
   },
   "outputs": [],
   "source": [
    "plt.plot(history.history['gender_out_accuracy'])\n",
    "plt.plot(history.history['val_gender_out_accuracy'])\n",
    "plt.title('Gender loss')\n",
    "plt.ylabel('loss')\n",
    "plt.xlabel('epoch')\n",
    "plt.legend(['train', 'validation'], loc='upper left')\n",
    "plt.show()\n"
   ]
  },
  {
   "cell_type": "code",
   "execution_count": null,
   "id": "943419eb-47da-4208-b0ac-260be5d09cd9",
   "metadata": {
    "execution": {
     "iopub.execute_input": "2024-06-10T13:25:26.120723Z",
     "iopub.status.busy": "2024-06-10T13:25:26.119866Z",
     "iopub.status.idle": "2024-06-10T13:25:26.331736Z",
     "shell.execute_reply": "2024-06-10T13:25:26.330734Z"
    },
    "papermill": {
     "duration": 1.598396,
     "end_time": "2024-06-10T13:25:26.333903",
     "exception": false,
     "start_time": "2024-06-10T13:25:24.735507",
     "status": "completed"
    },
    "tags": []
   },
   "outputs": [],
   "source": [
    "plt.plot(history.history['age_out_mae'])\n",
    "plt.plot(history.history['val_age_out_mae'])\n",
    "plt.title('Age loss')\n",
    "plt.ylabel('loss')\n",
    "plt.xlabel('epoch')\n",
    "plt.legend(['train', 'validation'], loc='upper left')\n",
    "plt.show()\n"
   ]
  },
  {
   "cell_type": "code",
   "execution_count": null,
   "id": "536cf12a-1e1e-4820-ae60-1819f3936304",
   "metadata": {
    "execution": {
     "iopub.execute_input": "2024-06-10T13:25:29.118858Z",
     "iopub.status.busy": "2024-06-10T13:25:29.118021Z",
     "iopub.status.idle": "2024-06-10T13:25:29.577849Z",
     "shell.execute_reply": "2024-06-10T13:25:29.577114Z"
    },
    "papermill": {
     "duration": 1.832538,
     "end_time": "2024-06-10T13:25:29.579776",
     "exception": false,
     "start_time": "2024-06-10T13:25:27.747238",
     "status": "completed"
    },
    "tags": []
   },
   "outputs": [],
   "source": [
    "image_index = 3000\n",
    "print(f\"Original Gender: \\t{gender_dict[y_gender[image_index]]} \\t Original Age: \\t{y_age[image_index]}\")\n",
    "\n",
    "pred = model.predict(X[image_index].reshape(1,128,128,1))\n",
    "pred_gender = gender_dict[int(round(pred[0][0][0]))]  \n",
    "pred_age = round(pred[1][0][0])\n",
    "print(f\"Predicted Gender: \\t{pred_gender}\\t Predicted Age \\t{pred_age}\")\n",
    "plt.title(f'Gender: {pred_gender}, Age: {pred_age}')\n",
    "plt.imshow(X[image_index].reshape(128,128), cmap='gray') \n",
    "plt.show()  \n"
   ]
  },
  {
   "cell_type": "code",
   "execution_count": null,
   "id": "0f352421-d05c-4619-b8a6-ec37cc26d9a4",
   "metadata": {
    "execution": {
     "iopub.execute_input": "2024-06-10T13:25:32.441735Z",
     "iopub.status.busy": "2024-06-10T13:25:32.440761Z",
     "iopub.status.idle": "2024-06-10T13:25:32.755770Z",
     "shell.execute_reply": "2024-06-10T13:25:32.754799Z"
    },
    "papermill": {
     "duration": 1.75355,
     "end_time": "2024-06-10T13:25:32.758699",
     "exception": false,
     "start_time": "2024-06-10T13:25:31.005149",
     "status": "completed"
    },
    "tags": []
   },
   "outputs": [],
   "source": [
    "image_index = 50\n",
    "print(f\"Original Gender: \\t{gender_dict[y_gender[image_index]]} \\t Original Age: \\t{y_age[image_index]}\")\n",
    "\n",
    "pred = model.predict(X[image_index].reshape(1,128,128,1))\n",
    "pred_gender = gender_dict[int(round(pred[0][0][0]))]  \n",
    "pred_age = round(pred[1][0][0])\n",
    "print(f\"Predicted Gender: \\t{pred_gender}\\t Predicted Age \\t{pred_age}\")\n",
    "plt.title(f'Gender: {pred_gender}, Age: {pred_age}')\n",
    "plt.imshow(X[image_index].reshape(128,128), cmap='gray') \n",
    "plt.show()  "
   ]
  },
  {
   "cell_type": "code",
   "execution_count": null,
   "id": "2780ee69-ed38-4edc-8bd3-ec1fa4434b0a",
   "metadata": {
    "execution": {
     "iopub.execute_input": "2024-06-10T13:25:35.584166Z",
     "iopub.status.busy": "2024-06-10T13:25:35.583740Z",
     "iopub.status.idle": "2024-06-10T13:25:35.903602Z",
     "shell.execute_reply": "2024-06-10T13:25:35.902653Z"
    },
    "papermill": {
     "duration": 1.729725,
     "end_time": "2024-06-10T13:25:35.906179",
     "exception": false,
     "start_time": "2024-06-10T13:25:34.176454",
     "status": "completed"
    },
    "tags": []
   },
   "outputs": [],
   "source": [
    "image_index = 35\n",
    "print(f\"Original Gender: \\t{gender_dict[y_gender[image_index]]} \\t Original Age: \\t{y_age[image_index]}\")\n",
    "\n",
    "pred = model.predict(X[image_index].reshape(1,128,128,1))\n",
    "pred_gender = gender_dict[int(round(pred[0][0][0]))]  \n",
    "pred_age = round(pred[1][0][0])\n",
    "print(f\"Predicted Gender: \\t{pred_gender}\\t Predicted Age \\t{pred_age}\")\n",
    "plt.title(f'Gender: {pred_gender}, Age: {pred_age}')\n",
    "plt.imshow(X[image_index].reshape(128,128), cmap='gray') \n",
    "plt.show()  "
   ]
  }
 ],
 "metadata": {
  "kaggle": {
   "accelerator": "nvidiaTeslaT4",
   "dataSources": [
    {
     "datasetId": 44109,
     "sourceId": 78156,
     "sourceType": "datasetVersion"
    }
   ],
   "dockerImageVersionId": 30886,
   "isGpuEnabled": true,
   "isInternetEnabled": true,
   "language": "python",
   "sourceType": "notebook"
  },
  "kernelspec": {
   "display_name": "Python 3",
   "language": "python",
   "name": "python3"
  },
  "language_info": {
   "codemirror_mode": {
    "name": "ipython",
    "version": 3
   },
   "file_extension": ".py",
   "mimetype": "text/x-python",
   "name": "python",
   "nbconvert_exporter": "python",
   "pygments_lexer": "ipython3",
   "version": "3.11.0"
  },
  "papermill": {
   "default_parameters": {},
   "duration": 2035.770067,
   "end_time": "2024-06-10T13:25:39.260186",
   "environment_variables": {},
   "exception": null,
   "input_path": "__notebook__.ipynb",
   "output_path": "__notebook__.ipynb",
   "parameters": {},
   "start_time": "2024-06-10T12:51:43.490119",
   "version": "2.5.0"
  }
 },
 "nbformat": 4,
 "nbformat_minor": 5
}
